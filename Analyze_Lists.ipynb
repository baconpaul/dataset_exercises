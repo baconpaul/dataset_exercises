{
 "cells": [
  {
   "cell_type": "markdown",
   "metadata": {},
   "source": [
    "# Analzye Data using Straight Python\n",
    "\n",
    "This example analyzes one of our test data sets using just straight python list\n",
    "elements (not pandas) but strives to avoid loops as much as possible and think\n",
    "about the data as a data set."
   ]
  },
  {
   "cell_type": "markdown",
   "metadata": {},
   "source": [
    "We begin by loading the file into a list of items using the \"csv\" package."
   ]
  },
  {
   "cell_type": "code",
   "execution_count": 22,
   "metadata": {
    "collapsed": false
   },
   "outputs": [],
   "source": [
    "import csv\n",
    "\n",
    "file = \"datasets/lunch_10.csv\"\n",
    "rawrows = []\n",
    "with open( file, newline='') as csvfile:\n",
    "    rd = csv.reader( csvfile )\n",
    "    for row in rd:\n",
    "        rawrows.append( row )\n",
    "\n",
    "labels = rawrows[ 0 ]\n",
    "rows = rawrows[ 1: ]"
   ]
  },
  {
   "cell_type": "markdown",
   "metadata": {},
   "source": [
    "Alright lets get some basic feel for the data. What are the labels? How many rows are there?"
   ]
  },
  {
   "cell_type": "code",
   "execution_count": 23,
   "metadata": {
    "collapsed": false
   },
   "outputs": [
    {
     "data": {
      "text/plain": [
       "['Date',\n",
       " 'School',\n",
       " 'Enrollment',\n",
       " 'Attendance',\n",
       " 'Hamburger',\n",
       " 'Pizza',\n",
       " 'HotDog',\n",
       " 'Skipped']"
      ]
     },
     "execution_count": 23,
     "metadata": {},
     "output_type": "execute_result"
    }
   ],
   "source": [
    "labels"
   ]
  },
  {
   "cell_type": "code",
   "execution_count": 24,
   "metadata": {
    "collapsed": false
   },
   "outputs": [
    {
     "data": {
      "text/plain": [
       "1800"
      ]
     },
     "execution_count": 24,
     "metadata": {},
     "output_type": "execute_result"
    }
   ],
   "source": [
    "len( rows )"
   ]
  },
  {
   "cell_type": "markdown",
   "metadata": {},
   "source": [
    "And now we want to ask some questions. How many unique schools are in my dataset? How many\n",
    "days does my dataset cover?"
   ]
  },
  {
   "cell_type": "code",
   "execution_count": 25,
   "metadata": {
    "collapsed": false
   },
   "outputs": [
    {
     "data": {
      "text/plain": [
       "[{'Central Arthur H.S.',\n",
       "  'East York H.S.',\n",
       "  'North Jefferson H.S.',\n",
       "  'North Lincoln M.S.',\n",
       "  'Outer Roosevelt M.S.',\n",
       "  'West Jefferson M.S.',\n",
       "  'West King M.S.',\n",
       "  'West Lincoln High',\n",
       "  'West Lincoln M.S.',\n",
       "  'West York High'},\n",
       " 10]"
      ]
     },
     "execution_count": 25,
     "metadata": {},
     "output_type": "execute_result"
    }
   ],
   "source": [
    "# We can find the unique elements by casting to a set.\n",
    "schools = set( [ r[1] for r in rows ] )\n",
    "[ schools, len( schools ) ]"
   ]
  },
  {
   "cell_type": "code",
   "execution_count": 26,
   "metadata": {
    "collapsed": false
   },
   "outputs": [
    {
     "data": {
      "text/plain": [
       "180"
      ]
     },
     "execution_count": 26,
     "metadata": {},
     "output_type": "execute_result"
    }
   ],
   "source": [
    "# Similarly we can find the unique days\n",
    "len( set ( [ r[ 0 ] for r in rows ] ))"
   ]
  },
  {
   "cell_type": "markdown",
   "metadata": {},
   "source": [
    "OK so now we need to do something harder. For each school we have the number of students\n",
    "and the number in attendance on a given day. So we can figure out the average daily attendance? That's a bit tricky because the data is all in one set and we want to \n",
    "derive an answer by 'grouping' the data into each school. \n",
    "\n",
    "There are lots of ways to do this and toolkits like 'pandas' make it really easy but\n",
    "since we are working just with a list of elements here, we need to recreate that grouping a bit."
   ]
  },
  {
   "cell_type": "code",
   "execution_count": 27,
   "metadata": {
    "collapsed": false
   },
   "outputs": [
    {
     "data": {
      "text/plain": [
       "{'Central Arthur H.S.': 87.0143080706461,\n",
       " 'East York H.S.': 93.280077463084,\n",
       " 'North Jefferson H.S.': 87.82571288102261,\n",
       " 'North Lincoln M.S.': 88.82559774964838,\n",
       " 'Outer Roosevelt M.S.': 84.80662983425414,\n",
       " 'West Jefferson M.S.': 88.63853123509776,\n",
       " 'West King M.S.': 87.04585537918871,\n",
       " 'West Lincoln High': 91.74394319131162,\n",
       " 'West Lincoln M.S.': 89.16858237547892,\n",
       " 'West York High': 90.41666666666667}"
      ]
     },
     "execution_count": 27,
     "metadata": {},
     "output_type": "execute_result"
    }
   ],
   "source": [
    "attendance = dict()\n",
    "for s in schools:\n",
    "    attendance[ s ] = [ 0, 0 ]\n",
    "\n",
    "for r in rows:\n",
    "    school = r[ 1 ]\n",
    "    enroll = int(r[ 2 ])\n",
    "    attend = int(r[ 3 ])\n",
    "    \n",
    "    prior = attendance[ school ]\n",
    "    newval = [ prior[ 0 ] + enroll, prior[ 1 ] + attend ]\n",
    "    attendance[ school ] = newval\n",
    "\n",
    "result = dict()\n",
    "for k,v in attendance.items():\n",
    "    result[ k ] = v[ 1 ] / v[ 0 ] * 100\n",
    "\n",
    "result"
   ]
  },
  {
   "cell_type": "markdown",
   "metadata": {},
   "source": [
    "And so on. We could continue but this will be a bit tedious having to write all this\n",
    "loop code."
   ]
  },
  {
   "cell_type": "code",
   "execution_count": null,
   "metadata": {
    "collapsed": true
   },
   "outputs": [],
   "source": []
  }
 ],
 "metadata": {
  "kernelspec": {
   "display_name": "Python 3",
   "language": "python",
   "name": "python3"
  },
  "language_info": {
   "codemirror_mode": {
    "name": "ipython",
    "version": 3
   },
   "file_extension": ".py",
   "mimetype": "text/x-python",
   "name": "python",
   "nbconvert_exporter": "python",
   "pygments_lexer": "ipython3",
   "version": "3.5.1"
  }
 },
 "nbformat": 4,
 "nbformat_minor": 2
}
